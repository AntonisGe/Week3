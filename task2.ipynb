{
  "nbformat": 4,
  "nbformat_minor": 0,
  "metadata": {
    "colab": {
      "name": "Untitled2.ipynb",
      "provenance": [],
      "collapsed_sections": []
    },
    "kernelspec": {
      "name": "python3",
      "display_name": "Python 3"
    }
  },
  "cells": [
    {
      "cell_type": "markdown",
      "metadata": {
        "id": "gRWuL-Bp5Rk2",
        "colab_type": "text"
      },
      "source": [
        "#  **This is a project for week 3**"
      ]
    },
    {
      "cell_type": "markdown",
      "metadata": {
        "id": "hykwDHhH61Xb",
        "colab_type": "text"
      },
      "source": [
        "## installing and importing necessary libraries"
      ]
    },
    {
      "cell_type": "code",
      "metadata": {
        "id": "jAZGiZLN5XgP",
        "colab_type": "code",
        "colab": {}
      },
      "source": [
        "#!pip install lxml\n",
        "#!pip install html5lib\n",
        "#!pip install BeautifulSoup4\n",
        "import pandas as pd\n",
        "import html5lib"
      ],
      "execution_count": 0,
      "outputs": []
    },
    {
      "cell_type": "markdown",
      "metadata": {
        "id": "OoPBzIfh7HX9",
        "colab_type": "text"
      },
      "source": [
        "## importing and manipulating dataset. Task 1"
      ]
    },
    {
      "cell_type": "code",
      "metadata": {
        "id": "Zn2kAi7H5wru",
        "colab_type": "code",
        "colab": {}
      },
      "source": [
        "df=pd.read_html('https://en.wikipedia.org/wiki/List_of_postal_codes_of_Canada:_M')[0]"
      ],
      "execution_count": 0,
      "outputs": []
    },
    {
      "cell_type": "code",
      "metadata": {
        "id": "HULOStfS7rMl",
        "colab_type": "code",
        "colab": {}
      },
      "source": [
        "df = df.drop(df[df['Borough'] == 'Not assigned'].index)"
      ],
      "execution_count": 0,
      "outputs": []
    },
    {
      "cell_type": "code",
      "metadata": {
        "id": "ztIc4rAC85dF",
        "colab_type": "code",
        "colab": {}
      },
      "source": [
        "df = df.rename(columns={'Postcode': 'PostalCode'})"
      ],
      "execution_count": 0,
      "outputs": []
    },
    {
      "cell_type": "code",
      "metadata": {
        "id": "RrRXcz8L8ELs",
        "colab_type": "code",
        "colab": {}
      },
      "source": [
        "df.reset_index(drop=True, inplace=True);"
      ],
      "execution_count": 0,
      "outputs": []
    },
    {
      "cell_type": "code",
      "metadata": {
        "id": "lM_hendO8zkB",
        "colab_type": "code",
        "colab": {
          "base_uri": "https://localhost:8080/",
          "height": 36
        },
        "outputId": "17d97666-5c37-4e41-e79d-6f2f81f2dce1"
      },
      "source": [
        "df.shape"
      ],
      "execution_count": 35,
      "outputs": [
        {
          "output_type": "execute_result",
          "data": {
            "text/plain": [
              "(210, 3)"
            ]
          },
          "metadata": {
            "tags": []
          },
          "execution_count": 35
        }
      ]
    },
    {
      "cell_type": "code",
      "metadata": {
        "id": "VB9fL0kY9nd7",
        "colab_type": "code",
        "colab": {
          "base_uri": "https://localhost:8080/",
          "height": 112
        },
        "outputId": "1428e622-7aee-4400-ffd6-77ada319f491"
      },
      "source": [
        "df.head(2)"
      ],
      "execution_count": 36,
      "outputs": [
        {
          "output_type": "execute_result",
          "data": {
            "text/html": [
              "<div>\n",
              "<style scoped>\n",
              "    .dataframe tbody tr th:only-of-type {\n",
              "        vertical-align: middle;\n",
              "    }\n",
              "\n",
              "    .dataframe tbody tr th {\n",
              "        vertical-align: top;\n",
              "    }\n",
              "\n",
              "    .dataframe thead th {\n",
              "        text-align: right;\n",
              "    }\n",
              "</style>\n",
              "<table border=\"1\" class=\"dataframe\">\n",
              "  <thead>\n",
              "    <tr style=\"text-align: right;\">\n",
              "      <th></th>\n",
              "      <th>PostalCode</th>\n",
              "      <th>Borough</th>\n",
              "      <th>Neighborhood</th>\n",
              "    </tr>\n",
              "  </thead>\n",
              "  <tbody>\n",
              "    <tr>\n",
              "      <th>0</th>\n",
              "      <td>M3A</td>\n",
              "      <td>North York</td>\n",
              "      <td>Parkwoods</td>\n",
              "    </tr>\n",
              "    <tr>\n",
              "      <th>1</th>\n",
              "      <td>M4A</td>\n",
              "      <td>North York</td>\n",
              "      <td>Victoria Village</td>\n",
              "    </tr>\n",
              "  </tbody>\n",
              "</table>\n",
              "</div>"
            ],
            "text/plain": [
              "  PostalCode     Borough      Neighborhood\n",
              "0        M3A  North York         Parkwoods\n",
              "1        M4A  North York  Victoria Village"
            ]
          },
          "metadata": {
            "tags": []
          },
          "execution_count": 36
        }
      ]
    },
    {
      "cell_type": "markdown",
      "metadata": {
        "id": "sP8CvzT-A718",
        "colab_type": "text"
      },
      "source": [
        "## inserting log and lan; Task 2."
      ]
    },
    {
      "cell_type": "code",
      "metadata": {
        "id": "NZ7SfQovA-ly",
        "colab_type": "code",
        "colab": {}
      },
      "source": [
        "df1=pd.read_csv('https://cocl.us/Geospatial_data')"
      ],
      "execution_count": 0,
      "outputs": []
    },
    {
      "cell_type": "code",
      "metadata": {
        "id": "qvoSFjAxBcQE",
        "colab_type": "code",
        "colab": {}
      },
      "source": [
        "lat=[]\n",
        "for i in range(210):\n",
        "  a=df.loc[i,['PostalCode']]\n",
        "  b=df1[df1['Postal Code']==a[0]]['Latitude']\n",
        "  lat.append(b.values[0])"
      ],
      "execution_count": 0,
      "outputs": []
    },
    {
      "cell_type": "code",
      "metadata": {
        "id": "n5Lw-V_cGDi6",
        "colab_type": "code",
        "colab": {}
      },
      "source": [
        "lon=[]\n",
        "for i in range(210):\n",
        "  a=df.loc[i,['PostalCode']]\n",
        "  b=df1[df1['Postal Code']==a[0]]['Longitude']\n",
        "  lon.append(b.values[0])"
      ],
      "execution_count": 0,
      "outputs": []
    },
    {
      "cell_type": "code",
      "metadata": {
        "id": "pwbwW6bvGN4Y",
        "colab_type": "code",
        "colab": {}
      },
      "source": [
        "df['Latitude']=lat\n",
        "df['Longitude']=lon"
      ],
      "execution_count": 0,
      "outputs": []
    },
    {
      "cell_type": "code",
      "metadata": {
        "id": "IegvTBZjGjL-",
        "colab_type": "code",
        "colab": {
          "base_uri": "https://localhost:8080/",
          "height": 112
        },
        "outputId": "f73ff6e6-1c99-4abe-f5d6-4f2f33c14aa2"
      },
      "source": [
        "df[df['PostalCode']=='M4B'] # same results as in example"
      ],
      "execution_count": 87,
      "outputs": [
        {
          "output_type": "execute_result",
          "data": {
            "text/html": [
              "<div>\n",
              "<style scoped>\n",
              "    .dataframe tbody tr th:only-of-type {\n",
              "        vertical-align: middle;\n",
              "    }\n",
              "\n",
              "    .dataframe tbody tr th {\n",
              "        vertical-align: top;\n",
              "    }\n",
              "\n",
              "    .dataframe thead th {\n",
              "        text-align: right;\n",
              "    }\n",
              "</style>\n",
              "<table border=\"1\" class=\"dataframe\">\n",
              "  <thead>\n",
              "    <tr style=\"text-align: right;\">\n",
              "      <th></th>\n",
              "      <th>PostalCode</th>\n",
              "      <th>Borough</th>\n",
              "      <th>Neighborhood</th>\n",
              "      <th>Latitude</th>\n",
              "      <th>Longitude</th>\n",
              "    </tr>\n",
              "  </thead>\n",
              "  <tbody>\n",
              "    <tr>\n",
              "      <th>10</th>\n",
              "      <td>M4B</td>\n",
              "      <td>East York</td>\n",
              "      <td>Woodbine Gardens</td>\n",
              "      <td>43.706397</td>\n",
              "      <td>-79.309937</td>\n",
              "    </tr>\n",
              "    <tr>\n",
              "      <th>11</th>\n",
              "      <td>M4B</td>\n",
              "      <td>East York</td>\n",
              "      <td>Parkview Hill</td>\n",
              "      <td>43.706397</td>\n",
              "      <td>-79.309937</td>\n",
              "    </tr>\n",
              "  </tbody>\n",
              "</table>\n",
              "</div>"
            ],
            "text/plain": [
              "   PostalCode    Borough      Neighborhood   Latitude  Longitude\n",
              "10        M4B  East York  Woodbine Gardens  43.706397 -79.309937\n",
              "11        M4B  East York     Parkview Hill  43.706397 -79.309937"
            ]
          },
          "metadata": {
            "tags": []
          },
          "execution_count": 87
        }
      ]
    },
    {
      "cell_type": "code",
      "metadata": {
        "id": "nOvkIlhzGzSt",
        "colab_type": "code",
        "colab": {}
      },
      "source": [
        ""
      ],
      "execution_count": 0,
      "outputs": []
    }
  ]
}