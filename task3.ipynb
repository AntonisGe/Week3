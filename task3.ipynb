{
  "nbformat": 4,
  "nbformat_minor": 0,
  "metadata": {
    "colab": {
      "name": "Untitled2.ipynb",
      "provenance": [],
      "collapsed_sections": []
    },
    "kernelspec": {
      "name": "python3",
      "display_name": "Python 3"
    }
  },
  "cells": [
    {
      "cell_type": "markdown",
      "metadata": {
        "id": "gRWuL-Bp5Rk2",
        "colab_type": "text"
      },
      "source": [
        "#  **This is a project for week 3**"
      ]
    },
    {
      "cell_type": "markdown",
      "metadata": {
        "id": "hykwDHhH61Xb",
        "colab_type": "text"
      },
      "source": [
        "## installing and importing necessary libraries"
      ]
    },
    {
      "cell_type": "code",
      "metadata": {
        "id": "jAZGiZLN5XgP",
        "colab_type": "code",
        "colab": {}
      },
      "source": [
        "#!pip install lxml\n",
        "#!pip install html5lib\n",
        "#!pip install BeautifulSoup4\n",
        "import pandas as pd\n",
        "import html5lib\n",
        "from geopy.geocoders import Nominatim\n",
        "import requests\n",
        "import numpy as np\n",
        "from sklearn.cluster import KMeans"
      ],
      "execution_count": 0,
      "outputs": []
    },
    {
      "cell_type": "markdown",
      "metadata": {
        "id": "OoPBzIfh7HX9",
        "colab_type": "text"
      },
      "source": [
        "## importing and manipulating dataset. Task 1"
      ]
    },
    {
      "cell_type": "code",
      "metadata": {
        "id": "Zn2kAi7H5wru",
        "colab_type": "code",
        "colab": {}
      },
      "source": [
        "df=pd.read_html('https://en.wikipedia.org/wiki/List_of_postal_codes_of_Canada:_M')[0]"
      ],
      "execution_count": 0,
      "outputs": []
    },
    {
      "cell_type": "code",
      "metadata": {
        "id": "HULOStfS7rMl",
        "colab_type": "code",
        "colab": {}
      },
      "source": [
        "df = df.drop(df[df['Borough'] == 'Not assigned'].index)"
      ],
      "execution_count": 0,
      "outputs": []
    },
    {
      "cell_type": "code",
      "metadata": {
        "id": "ztIc4rAC85dF",
        "colab_type": "code",
        "colab": {}
      },
      "source": [
        "df = df.rename(columns={'Postcode': 'PostalCode'})"
      ],
      "execution_count": 0,
      "outputs": []
    },
    {
      "cell_type": "code",
      "metadata": {
        "id": "RrRXcz8L8ELs",
        "colab_type": "code",
        "colab": {}
      },
      "source": [
        "df.reset_index(drop=True, inplace=True);"
      ],
      "execution_count": 0,
      "outputs": []
    },
    {
      "cell_type": "code",
      "metadata": {
        "id": "lM_hendO8zkB",
        "colab_type": "code",
        "outputId": "b592dac8-cfe7-4474-cb3a-aa1bae76cc31",
        "colab": {
          "base_uri": "https://localhost:8080/",
          "height": 36
        }
      },
      "source": [
        "df.shape"
      ],
      "execution_count": 19,
      "outputs": [
        {
          "output_type": "execute_result",
          "data": {
            "text/plain": [
              "(210, 3)"
            ]
          },
          "metadata": {
            "tags": []
          },
          "execution_count": 19
        }
      ]
    },
    {
      "cell_type": "code",
      "metadata": {
        "id": "VB9fL0kY9nd7",
        "colab_type": "code",
        "outputId": "666c30bd-9754-469b-8e72-e28a1820f696",
        "colab": {
          "base_uri": "https://localhost:8080/",
          "height": 112
        }
      },
      "source": [
        "df.head(2)"
      ],
      "execution_count": 20,
      "outputs": [
        {
          "output_type": "execute_result",
          "data": {
            "text/html": [
              "<div>\n",
              "<style scoped>\n",
              "    .dataframe tbody tr th:only-of-type {\n",
              "        vertical-align: middle;\n",
              "    }\n",
              "\n",
              "    .dataframe tbody tr th {\n",
              "        vertical-align: top;\n",
              "    }\n",
              "\n",
              "    .dataframe thead th {\n",
              "        text-align: right;\n",
              "    }\n",
              "</style>\n",
              "<table border=\"1\" class=\"dataframe\">\n",
              "  <thead>\n",
              "    <tr style=\"text-align: right;\">\n",
              "      <th></th>\n",
              "      <th>PostalCode</th>\n",
              "      <th>Borough</th>\n",
              "      <th>Neighborhood</th>\n",
              "    </tr>\n",
              "  </thead>\n",
              "  <tbody>\n",
              "    <tr>\n",
              "      <th>0</th>\n",
              "      <td>M3A</td>\n",
              "      <td>North York</td>\n",
              "      <td>Parkwoods</td>\n",
              "    </tr>\n",
              "    <tr>\n",
              "      <th>1</th>\n",
              "      <td>M4A</td>\n",
              "      <td>North York</td>\n",
              "      <td>Victoria Village</td>\n",
              "    </tr>\n",
              "  </tbody>\n",
              "</table>\n",
              "</div>"
            ],
            "text/plain": [
              "  PostalCode     Borough      Neighborhood\n",
              "0        M3A  North York         Parkwoods\n",
              "1        M4A  North York  Victoria Village"
            ]
          },
          "metadata": {
            "tags": []
          },
          "execution_count": 20
        }
      ]
    },
    {
      "cell_type": "markdown",
      "metadata": {
        "id": "sP8CvzT-A718",
        "colab_type": "text"
      },
      "source": [
        "## inserting log and lan; Task 2."
      ]
    },
    {
      "cell_type": "code",
      "metadata": {
        "id": "NZ7SfQovA-ly",
        "colab_type": "code",
        "colab": {}
      },
      "source": [
        "df1=pd.read_csv('https://cocl.us/Geospatial_data')"
      ],
      "execution_count": 0,
      "outputs": []
    },
    {
      "cell_type": "code",
      "metadata": {
        "id": "qvoSFjAxBcQE",
        "colab_type": "code",
        "colab": {}
      },
      "source": [
        "lat=[]\n",
        "for i in range(210):\n",
        "  a=df.loc[i,['PostalCode']]\n",
        "  b=df1[df1['Postal Code']==a[0]]['Latitude']\n",
        "  lat.append(b.values[0])"
      ],
      "execution_count": 0,
      "outputs": []
    },
    {
      "cell_type": "code",
      "metadata": {
        "id": "n5Lw-V_cGDi6",
        "colab_type": "code",
        "colab": {}
      },
      "source": [
        "lon=[]\n",
        "for i in range(210):\n",
        "  a=df.loc[i,['PostalCode']]\n",
        "  b=df1[df1['Postal Code']==a[0]]['Longitude']\n",
        "  lon.append(b.values[0])"
      ],
      "execution_count": 0,
      "outputs": []
    },
    {
      "cell_type": "code",
      "metadata": {
        "id": "pwbwW6bvGN4Y",
        "colab_type": "code",
        "colab": {}
      },
      "source": [
        "df['Latitude']=lat\n",
        "df['Longitude']=lon"
      ],
      "execution_count": 0,
      "outputs": []
    },
    {
      "cell_type": "code",
      "metadata": {
        "id": "IegvTBZjGjL-",
        "colab_type": "code",
        "outputId": "e0503efe-e5ce-44a3-ba74-c1f059b2e19c",
        "colab": {
          "base_uri": "https://localhost:8080/",
          "height": 112
        }
      },
      "source": [
        "df[df['PostalCode']=='M4B'] # same results as in example"
      ],
      "execution_count": 25,
      "outputs": [
        {
          "output_type": "execute_result",
          "data": {
            "text/html": [
              "<div>\n",
              "<style scoped>\n",
              "    .dataframe tbody tr th:only-of-type {\n",
              "        vertical-align: middle;\n",
              "    }\n",
              "\n",
              "    .dataframe tbody tr th {\n",
              "        vertical-align: top;\n",
              "    }\n",
              "\n",
              "    .dataframe thead th {\n",
              "        text-align: right;\n",
              "    }\n",
              "</style>\n",
              "<table border=\"1\" class=\"dataframe\">\n",
              "  <thead>\n",
              "    <tr style=\"text-align: right;\">\n",
              "      <th></th>\n",
              "      <th>PostalCode</th>\n",
              "      <th>Borough</th>\n",
              "      <th>Neighborhood</th>\n",
              "      <th>Latitude</th>\n",
              "      <th>Longitude</th>\n",
              "    </tr>\n",
              "  </thead>\n",
              "  <tbody>\n",
              "    <tr>\n",
              "      <th>10</th>\n",
              "      <td>M4B</td>\n",
              "      <td>East York</td>\n",
              "      <td>Woodbine Gardens</td>\n",
              "      <td>43.706397</td>\n",
              "      <td>-79.309937</td>\n",
              "    </tr>\n",
              "    <tr>\n",
              "      <th>11</th>\n",
              "      <td>M4B</td>\n",
              "      <td>East York</td>\n",
              "      <td>Parkview Hill</td>\n",
              "      <td>43.706397</td>\n",
              "      <td>-79.309937</td>\n",
              "    </tr>\n",
              "  </tbody>\n",
              "</table>\n",
              "</div>"
            ],
            "text/plain": [
              "   PostalCode    Borough      Neighborhood   Latitude  Longitude\n",
              "10        M4B  East York  Woodbine Gardens  43.706397 -79.309937\n",
              "11        M4B  East York     Parkview Hill  43.706397 -79.309937"
            ]
          },
          "metadata": {
            "tags": []
          },
          "execution_count": 25
        }
      ]
    },
    {
      "cell_type": "markdown",
      "metadata": {
        "id": "VJE4gOd9JDSx",
        "colab_type": "text"
      },
      "source": [
        "## Task 3; clustering"
      ]
    },
    {
      "cell_type": "code",
      "metadata": {
        "id": "sDLXKvSlJGOd",
        "colab_type": "code",
        "colab": {}
      },
      "source": [
        "CLIENT_ID = 'YHLSQYTPNMPEPCCPAMR2NBXPTD1LVTXVDX0ZDSJCAUAZTPKY'\n",
        "CLIENT_SECRET = '1MFFUIP4C4XVZC4HX2GJ2HHUJ0NJIVM5SGQUK3LOH4CEI2P5'\n",
        "VERSION = '20191231'"
      ],
      "execution_count": 0,
      "outputs": []
    },
    {
      "cell_type": "code",
      "metadata": {
        "id": "dlVDIylN6nuq",
        "colab_type": "code",
        "colab": {}
      },
      "source": [
        "#create a dataframe with only the boroughs that have the word toronto\n",
        "dff=df[df['Borough']==\"Downtown Toronto\" ]"
      ],
      "execution_count": 0,
      "outputs": []
    },
    {
      "cell_type": "code",
      "metadata": {
        "id": "e54FdgPzlO7r",
        "colab_type": "code",
        "colab": {
          "base_uri": "https://localhost:8080/",
          "height": 36
        },
        "outputId": "2ca52223-d04b-43fe-dde9-917467c7792f"
      },
      "source": [
        "#find the adrees of Downtown Toronto\n",
        "\n",
        "address='Downtown Toronto'\n",
        "\n",
        "geolocator = Nominatim(user_agent=\"ny_explorer\")\n",
        "location = geolocator.geocode(address)\n",
        "latitude = location.latitude\n",
        "longitude = location.longitude\n",
        "print('The geograpical coordinate of Downtown Toronto are {}, {}.'.format(latitude, longitude))"
      ],
      "execution_count": 46,
      "outputs": [
        {
          "output_type": "stream",
          "text": [
            "The geograpical coordinate of Downtown Toronto are 43.6563221, -79.3809161.\n"
          ],
          "name": "stdout"
        }
      ]
    },
    {
      "cell_type": "code",
      "metadata": {
        "id": "FxeNznSYl3Aj",
        "colab_type": "code",
        "colab": {}
      },
      "source": [
        "# using the function in the excericise\n",
        "def getNearbyVenues(names, latitudes, longitudes, radius=500):\n",
        "    \n",
        "    venues_list=[]\n",
        "    for name, lat, lng in zip(names, latitudes, longitudes):\n",
        "        # create the API request URL\n",
        "        url = 'https://api.foursquare.com/v2/venues/explore?&client_id={}&client_secret={}&v={}&ll={},{}&radius={}&limit={}'.format(\n",
        "            CLIENT_ID, \n",
        "            CLIENT_SECRET, \n",
        "            VERSION, \n",
        "            lat, \n",
        "            lng, \n",
        "            500, \n",
        "            100)\n",
        "            \n",
        "        # make the GET request\n",
        "        results = requests.get(url).json()[\"response\"]['groups'][0]['items']\n",
        "        \n",
        "        # return only relevant information for each nearby venue\n",
        "        venues_list.append([(\n",
        "            name, \n",
        "            lat, \n",
        "            lng, \n",
        "            v['venue']['name'], \n",
        "            v['venue']['location']['lat'], \n",
        "            v['venue']['location']['lng'],  \n",
        "            v['venue']['categories'][0]['name']) for v in results])\n",
        "\n",
        "    nearby_venues = pd.DataFrame([item for venue_list in venues_list for item in venue_list])\n",
        "    nearby_venues.columns = ['Neighborhood', \n",
        "                  'Neighborhood Latitude', \n",
        "                  'Neighborhood Longitude', \n",
        "                  'Venue', \n",
        "                  'Venue Latitude', \n",
        "                  'Venue Longitude', \n",
        "                  'Venue Category']\n",
        "    \n",
        "    return(nearby_venues)"
      ],
      "execution_count": 0,
      "outputs": []
    },
    {
      "cell_type": "code",
      "metadata": {
        "id": "wlCWoWIrmxp5",
        "colab_type": "code",
        "colab": {}
      },
      "source": [
        "toronto_venues = getNearbyVenues(dff['Neighborhood'],dff['Latitude'],dff['Longitude'])"
      ],
      "execution_count": 0,
      "outputs": []
    },
    {
      "cell_type": "code",
      "metadata": {
        "id": "paT5lsg_nyCg",
        "colab_type": "code",
        "colab": {}
      },
      "source": [
        "#creating the final df\n",
        "toronto_onehot = pd.get_dummies(toronto_venues[['Venue Category']], prefix=\"\", prefix_sep=\"\")\n",
        "toronto_onehot.insert(0,'Neighborhoods',toronto_venues['Neighborhood'])"
      ],
      "execution_count": 0,
      "outputs": []
    },
    {
      "cell_type": "code",
      "metadata": {
        "id": "Nmj1i_gLqb1A",
        "colab_type": "code",
        "colab": {}
      },
      "source": [
        "#now we want the most common\n",
        " \n",
        "def return_most_common_venues(row, num_top_venues):\n",
        "    row_categories = row.iloc[1:]\n",
        "    row_categories_sorted = row_categories.sort_values(ascending=False)\n",
        "    \n",
        "    return row_categories_sorted.index.values[0:num_top_venues]"
      ],
      "execution_count": 0,
      "outputs": []
    },
    {
      "cell_type": "code",
      "metadata": {
        "id": "OtlmYNJzru64",
        "colab_type": "code",
        "colab": {}
      },
      "source": [
        "toronto_grouped = toronto_onehot.groupby('Neighborhoods').mean().reset_index()\n"
      ],
      "execution_count": 0,
      "outputs": []
    },
    {
      "cell_type": "code",
      "metadata": {
        "id": "QclkgUmRsF-A",
        "colab_type": "code",
        "colab": {
          "base_uri": "https://localhost:8080/",
          "height": 275
        },
        "outputId": "e22ba4e4-54ba-4133-d325-ec5b74804417"
      },
      "source": [
        "num_top_venues = 10\n",
        "indicators = ['st', 'nd', 'rd']\n",
        "\n",
        "columns = ['Neighborhoods']\n",
        "for ind in np.arange(num_top_venues):\n",
        "    try:\n",
        "        columns.append('{}{} Most Common Venue'.format(ind+1, indicators[ind]))\n",
        "    except:\n",
        "        columns.append('{}th Most Common Venue'.format(ind+1))\n",
        "\n",
        "neighborhoods_venues_sorted = pd.DataFrame(columns=columns)\n",
        "neighborhoods_venues_sorted['Neighborhoods'] = toronto_grouped['Neighborhoods']\n",
        "\n",
        "for ind in np.arange(toronto_grouped.shape[0]):\n",
        "    neighborhoods_venues_sorted.iloc[ind, 1:] = return_most_common_venues(toronto_grouped.iloc[ind, :], num_top_venues)\n",
        "\n",
        "neighborhoods_venues_sorted.head()"
      ],
      "execution_count": 93,
      "outputs": [
        {
          "output_type": "execute_result",
          "data": {
            "text/html": [
              "<div>\n",
              "<style scoped>\n",
              "    .dataframe tbody tr th:only-of-type {\n",
              "        vertical-align: middle;\n",
              "    }\n",
              "\n",
              "    .dataframe tbody tr th {\n",
              "        vertical-align: top;\n",
              "    }\n",
              "\n",
              "    .dataframe thead th {\n",
              "        text-align: right;\n",
              "    }\n",
              "</style>\n",
              "<table border=\"1\" class=\"dataframe\">\n",
              "  <thead>\n",
              "    <tr style=\"text-align: right;\">\n",
              "      <th></th>\n",
              "      <th>Neighborhoods</th>\n",
              "      <th>1st Most Common Venue</th>\n",
              "      <th>2nd Most Common Venue</th>\n",
              "      <th>3rd Most Common Venue</th>\n",
              "      <th>4th Most Common Venue</th>\n",
              "      <th>5th Most Common Venue</th>\n",
              "      <th>6th Most Common Venue</th>\n",
              "      <th>7th Most Common Venue</th>\n",
              "      <th>8th Most Common Venue</th>\n",
              "      <th>9th Most Common Venue</th>\n",
              "      <th>10th Most Common Venue</th>\n",
              "    </tr>\n",
              "  </thead>\n",
              "  <tbody>\n",
              "    <tr>\n",
              "      <th>0</th>\n",
              "      <td>Adelaide</td>\n",
              "      <td>Coffee Shop</td>\n",
              "      <td>Café</td>\n",
              "      <td>Steakhouse</td>\n",
              "      <td>Bar</td>\n",
              "      <td>Thai Restaurant</td>\n",
              "      <td>Sushi Restaurant</td>\n",
              "      <td>Asian Restaurant</td>\n",
              "      <td>Restaurant</td>\n",
              "      <td>Burger Joint</td>\n",
              "      <td>Gym</td>\n",
              "    </tr>\n",
              "    <tr>\n",
              "      <th>1</th>\n",
              "      <td>Bathurst Quay</td>\n",
              "      <td>Airport Terminal</td>\n",
              "      <td>Airport Lounge</td>\n",
              "      <td>Boat or Ferry</td>\n",
              "      <td>Rental Car Location</td>\n",
              "      <td>Bar</td>\n",
              "      <td>Coffee Shop</td>\n",
              "      <td>Harbor / Marina</td>\n",
              "      <td>Sculpture Garden</td>\n",
              "      <td>Airport Food Court</td>\n",
              "      <td>Airport Service</td>\n",
              "    </tr>\n",
              "    <tr>\n",
              "      <th>2</th>\n",
              "      <td>Berczy Park</td>\n",
              "      <td>Coffee Shop</td>\n",
              "      <td>Cocktail Bar</td>\n",
              "      <td>Steakhouse</td>\n",
              "      <td>Café</td>\n",
              "      <td>Farmers Market</td>\n",
              "      <td>Seafood Restaurant</td>\n",
              "      <td>Beer Bar</td>\n",
              "      <td>Bakery</td>\n",
              "      <td>Cheese Shop</td>\n",
              "      <td>Comfort Food Restaurant</td>\n",
              "    </tr>\n",
              "    <tr>\n",
              "      <th>3</th>\n",
              "      <td>CN Tower</td>\n",
              "      <td>Airport Terminal</td>\n",
              "      <td>Airport Lounge</td>\n",
              "      <td>Boat or Ferry</td>\n",
              "      <td>Rental Car Location</td>\n",
              "      <td>Bar</td>\n",
              "      <td>Coffee Shop</td>\n",
              "      <td>Harbor / Marina</td>\n",
              "      <td>Sculpture Garden</td>\n",
              "      <td>Airport Food Court</td>\n",
              "      <td>Airport Service</td>\n",
              "    </tr>\n",
              "    <tr>\n",
              "      <th>4</th>\n",
              "      <td>Cabbagetown</td>\n",
              "      <td>Restaurant</td>\n",
              "      <td>Coffee Shop</td>\n",
              "      <td>Café</td>\n",
              "      <td>Italian Restaurant</td>\n",
              "      <td>Pizza Place</td>\n",
              "      <td>Pub</td>\n",
              "      <td>Bakery</td>\n",
              "      <td>Park</td>\n",
              "      <td>Playground</td>\n",
              "      <td>Beer Store</td>\n",
              "    </tr>\n",
              "  </tbody>\n",
              "</table>\n",
              "</div>"
            ],
            "text/plain": [
              "   Neighborhoods  ...   10th Most Common Venue\n",
              "0       Adelaide  ...                      Gym\n",
              "1  Bathurst Quay  ...          Airport Service\n",
              "2    Berczy Park  ...  Comfort Food Restaurant\n",
              "3       CN Tower  ...          Airport Service\n",
              "4    Cabbagetown  ...               Beer Store\n",
              "\n",
              "[5 rows x 11 columns]"
            ]
          },
          "metadata": {
            "tags": []
          },
          "execution_count": 93
        }
      ]
    },
    {
      "cell_type": "code",
      "metadata": {
        "id": "1TmQZbpbssnQ",
        "colab_type": "code",
        "colab": {}
      },
      "source": [
        "# and now clustering\n",
        "kclusters = 5\n",
        "toronto_grouped_clustering = toronto_grouped.drop('Neighborhoods', 1)\n",
        "kmeans = KMeans(n_clusters=kclusters, random_state=0).fit(toronto_grouped_clustering)"
      ],
      "execution_count": 0,
      "outputs": []
    },
    {
      "cell_type": "code",
      "metadata": {
        "id": "AOlvjWsrtUUY",
        "colab_type": "code",
        "colab": {}
      },
      "source": [
        "#visualazation; importing libraries\n",
        "import folium\n",
        "import matplotlib.cm as cm\n",
        "import matplotlib.colors as colors"
      ],
      "execution_count": 0,
      "outputs": []
    },
    {
      "cell_type": "code",
      "metadata": {
        "colab_type": "code",
        "id": "Y17cK7t1wkwZ",
        "colab": {}
      },
      "source": [
        "#add lat and lan on the above df\n",
        "# add clustering labels\n",
        "\n",
        "toronto_merged = dff\n",
        "\n",
        "# merge toronto_grouped with toronto_data to add latitude/longitude for each neighborhood\n",
        "toronto_merged = toronto_merged.join(neighborhoods_venues_sorted.set_index('Neighborhoods'), on='Neighborhood')"
      ],
      "execution_count": 0,
      "outputs": []
    },
    {
      "cell_type": "code",
      "metadata": {
        "id": "MugLvkkouMXQ",
        "colab_type": "code",
        "colab": {
          "base_uri": "https://localhost:8080/",
          "height": 854
        },
        "outputId": "5e281eb7-b2ae-43ac-e767-511cb6587cc1"
      },
      "source": [
        "# finish it off\n",
        "\n",
        "map_clusters = folium.Map(location=[latitude, longitude], zoom_start=12)\n",
        "\n",
        "# set color scheme for the clusters\n",
        "x = np.arange(kclusters)\n",
        "ys = [i + x + (i*x)**2 for i in range(kclusters)]\n",
        "colors_array = cm.rainbow(np.linspace(0, 1, len(ys)))\n",
        "rainbow = [colors.rgb2hex(i) for i in colors_array]\n",
        "\n",
        "markers_colors = []\n",
        "for lat, lon, poi, cluster in zip(toronto_merged['Latitude'], toronto_merged['Longitude'], toronto_merged['Neighborhood'], toronto_merged['Cluster Labels']):\n",
        "    label = folium.Popup(str(poi) + ' Cluster ' + str(cluster), parse_html=True)\n",
        "    folium.CircleMarker(\n",
        "        [lat, lon],\n",
        "        radius=5,\n",
        "        popup=label,\n",
        "        color=rainbow[cluster-1],\n",
        "        fill=True,\n",
        "        fill_color=rainbow[cluster-1],\n",
        "        fill_opacity=0.7).add_to(map_clusters)\n",
        "       \n",
        "map_clusters"
      ],
      "execution_count": 115,
      "outputs": [
        {
          "output_type": "execute_result",
          "data": {
            "text/html": [
              "<div style=\"width:100%;\"><div style=\"position:relative;width:100%;height:0;padding-bottom:60%;\"><iframe src=\"data:text/html;charset=utf-8;base64,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\" style=\"position:absolute;width:100%;height:100%;left:0;top:0;border:none !important;\" allowfullscreen webkitallowfullscreen mozallowfullscreen></iframe></div></div>"
            ],
            "text/plain": [
              "<folium.folium.Map at 0x7f1307c6aa20>"
            ]
          },
          "metadata": {
            "tags": []
          },
          "execution_count": 115
        }
      ]
    },
    {
      "cell_type": "code",
      "metadata": {
        "id": "A8nBrxtdw7wP",
        "colab_type": "code",
        "colab": {}
      },
      "source": [
        ""
      ],
      "execution_count": 0,
      "outputs": []
    }
  ]
}